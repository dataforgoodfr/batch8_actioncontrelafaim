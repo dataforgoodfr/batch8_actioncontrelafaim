{
 "cells": [
  {
   "cell_type": "markdown",
   "metadata": {},
   "source": [
    "# FAO datasets\n",
    "\n",
    "Running this notebooks collects all data price sources from http://www.fao.org/faostat/en/#home which is an UN organization. Available datasets are automatically scrapped from homepage."
   ]
  },
  {
   "cell_type": "markdown",
   "metadata": {},
   "source": [
    "## Settings"
   ]
  },
  {
   "cell_type": "code",
   "execution_count": 9,
   "metadata": {},
   "outputs": [],
   "source": [
    "# helpers\n",
    "from pathlib import Path\n",
    "import urllib.request\n",
    "from datetime import datetime\n",
    "import shutil\n",
    "import tqdm\n",
    "\n",
    "# data processing\n",
    "import pandas as pd\n",
    "import os\n",
    "from zipfile import ZipFile\n",
    "from bs4 import BeautifulSoup\n",
    "\n",
    "# conf\n",
    "import sys\n",
    "sys.path.insert(0,'../../..') # TODO: be more elegant / robust here\n",
    "from config.config import config\n",
    "sources = config.sources"
   ]
  },
  {
   "cell_type": "code",
   "execution_count": 12,
   "metadata": {},
   "outputs": [],
   "source": [
    "def scarp_all_datasets_from_the_FAO(url = sources.fao_api_bulk_url):\n",
    "    # Return a Python dictionnary from XML file on the FAO website dataset name -> (link, update date)\n",
    "    \n",
    "    with urllib.request.urlopen(url) as page:\n",
    "        \n",
    "        # Parse .xml file\n",
    "        xml = BeautifulSoup(page.read(), \"lxml\")\n",
    "        \n",
    "        # Get all dataset info\n",
    "        datasets_info = {}\n",
    "        for dataset in xml.find_all('dataset'):\n",
    "                datasets_info[dataset.datasetname.text] = (dataset.filelocation.text, dataset.dateupdate.text) \n",
    "        \n",
    "        return datasets_info\n",
    "\n",
    "def first_time_download(datasets_info,  output_path = sources.fao_output_folder):\n",
    "    # Download corresponding all .csv files while removing existing ones\n",
    "    \n",
    "    for dataset_name in datasets_info.keys():\n",
    "        \n",
    "        filename = datasets_info[dataset_name][0].split(\"/\")[-1]\n",
    "        path = datasets_info[dataset_name][0]\n",
    "        \n",
    "        # Get file\n",
    "        urllib.request.urlretrieve(path, output_path / filename)\n",
    "        \n",
    "        # Extract all the contents of zip file in current directory\n",
    "        with ZipFile(filename, 'r') as zipObj:\n",
    "           zipObj.extractall()\n",
    "        \n",
    "        # Delete zip file\n",
    "        try:\n",
    "            os.remove(filename)\n",
    "        except OSError:\n",
    "            print(\"Zip file already deleted.\")\n",
    "            pass\n",
    "\n",
    "def write_dataset_info(datasets_info, output_path = sources.fao_metadata_csv_path):\n",
    "    dataframe = pd.DataFrame.from_dict(datasets_info)\n",
    "    dataframe.to_csv(output_path)\n",
    "\n",
    "def update(datasets_info, input_path, output_path = sources.fao_output_folder):\n",
    "    # Download if dataset needs an update\n",
    "    \n",
    "    # Get old version\n",
    "    already_installed = pd.read_csv(input_path)\n",
    "\n",
    "    for dataset_name in datasets_info.keys():\n",
    "        # New version update\n",
    "        filename = datasets_info[dataset_name][0].split(\"/\")[-1]\n",
    "        new_date = datasets_info[dataset_name][1]\n",
    "        \n",
    "        # Old version udpate\n",
    "        old_date = already_installed[dataset_name][1]\n",
    "\n",
    "        if old_date < new_date:\n",
    "\n",
    "            #download version\n",
    "            path = datasets_info[dataset_name][0]\n",
    "            urllib.request.urlretrieve(path, output_path / filename)\n",
    "            \n",
    "            with ZipFile(filename, 'r') as zipObj:\n",
    "                # Extract all the contents of zip file in current directory\n",
    "              zipObj.extractall()\n",
    "\n",
    "            os.remove(filename)"
   ]
  },
  {
   "cell_type": "markdown",
   "metadata": {},
   "source": [
    "## Get all datasets from http://www.foodsecurityportal.org/"
   ]
  },
  {
   "cell_type": "code",
   "execution_count": 13,
   "metadata": {},
   "outputs": [
    {
     "ename": "FileNotFoundError",
     "evalue": "[Errno 2] No such file or directory: 'ASTI_Expenditures_E_All_Data_(Normalized).zip'",
     "output_type": "error",
     "traceback": [
      "\u001b[1;31m---------------------------------------------------------------------------\u001b[0m",
      "\u001b[1;31mFileNotFoundError\u001b[0m                         Traceback (most recent call last)",
      "\u001b[1;32m<ipython-input-13-274d86910e4b>\u001b[0m in \u001b[0;36m<module>\u001b[1;34m\u001b[0m\n\u001b[0;32m      4\u001b[0m \u001b[0mwrite_dataset_info\u001b[0m\u001b[1;33m(\u001b[0m\u001b[0mdatasets_info\u001b[0m\u001b[1;33m)\u001b[0m\u001b[1;33m\u001b[0m\u001b[1;33m\u001b[0m\u001b[0m\n\u001b[0;32m      5\u001b[0m \u001b[1;31m# Download all the .csv, save them\u001b[0m\u001b[1;33m\u001b[0m\u001b[1;33m\u001b[0m\u001b[1;33m\u001b[0m\u001b[0m\n\u001b[1;32m----> 6\u001b[1;33m \u001b[0mfirst_time_download\u001b[0m\u001b[1;33m(\u001b[0m\u001b[0mdatasets_info\u001b[0m\u001b[1;33m)\u001b[0m\u001b[1;33m\u001b[0m\u001b[1;33m\u001b[0m\u001b[0m\n\u001b[0m",
      "\u001b[1;32m<ipython-input-12-83f33df3647a>\u001b[0m in \u001b[0;36mfirst_time_download\u001b[1;34m(datasets_info, output_path)\u001b[0m\n\u001b[0;32m     26\u001b[0m \u001b[1;33m\u001b[0m\u001b[0m\n\u001b[0;32m     27\u001b[0m         \u001b[1;31m# Extract all the contents of zip file in current directory\u001b[0m\u001b[1;33m\u001b[0m\u001b[1;33m\u001b[0m\u001b[1;33m\u001b[0m\u001b[0m\n\u001b[1;32m---> 28\u001b[1;33m         \u001b[1;32mwith\u001b[0m \u001b[0mZipFile\u001b[0m\u001b[1;33m(\u001b[0m\u001b[0mfilename\u001b[0m\u001b[1;33m,\u001b[0m \u001b[1;34m'r'\u001b[0m\u001b[1;33m)\u001b[0m \u001b[1;32mas\u001b[0m \u001b[0mzipObj\u001b[0m\u001b[1;33m:\u001b[0m\u001b[1;33m\u001b[0m\u001b[1;33m\u001b[0m\u001b[0m\n\u001b[0m\u001b[0;32m     29\u001b[0m            \u001b[0mzipObj\u001b[0m\u001b[1;33m.\u001b[0m\u001b[0mextractall\u001b[0m\u001b[1;33m(\u001b[0m\u001b[1;33m)\u001b[0m\u001b[1;33m\u001b[0m\u001b[1;33m\u001b[0m\u001b[0m\n\u001b[0;32m     30\u001b[0m \u001b[1;33m\u001b[0m\u001b[0m\n",
      "\u001b[1;32mc:\\python38\\lib\\zipfile.py\u001b[0m in \u001b[0;36m__init__\u001b[1;34m(self, file, mode, compression, allowZip64, compresslevel, strict_timestamps)\u001b[0m\n\u001b[0;32m   1249\u001b[0m             \u001b[1;32mwhile\u001b[0m \u001b[1;32mTrue\u001b[0m\u001b[1;33m:\u001b[0m\u001b[1;33m\u001b[0m\u001b[1;33m\u001b[0m\u001b[0m\n\u001b[0;32m   1250\u001b[0m                 \u001b[1;32mtry\u001b[0m\u001b[1;33m:\u001b[0m\u001b[1;33m\u001b[0m\u001b[1;33m\u001b[0m\u001b[0m\n\u001b[1;32m-> 1251\u001b[1;33m                     \u001b[0mself\u001b[0m\u001b[1;33m.\u001b[0m\u001b[0mfp\u001b[0m \u001b[1;33m=\u001b[0m \u001b[0mio\u001b[0m\u001b[1;33m.\u001b[0m\u001b[0mopen\u001b[0m\u001b[1;33m(\u001b[0m\u001b[0mfile\u001b[0m\u001b[1;33m,\u001b[0m \u001b[0mfilemode\u001b[0m\u001b[1;33m)\u001b[0m\u001b[1;33m\u001b[0m\u001b[1;33m\u001b[0m\u001b[0m\n\u001b[0m\u001b[0;32m   1252\u001b[0m                 \u001b[1;32mexcept\u001b[0m \u001b[0mOSError\u001b[0m\u001b[1;33m:\u001b[0m\u001b[1;33m\u001b[0m\u001b[1;33m\u001b[0m\u001b[0m\n\u001b[0;32m   1253\u001b[0m                     \u001b[1;32mif\u001b[0m \u001b[0mfilemode\u001b[0m \u001b[1;32min\u001b[0m \u001b[0mmodeDict\u001b[0m\u001b[1;33m:\u001b[0m\u001b[1;33m\u001b[0m\u001b[1;33m\u001b[0m\u001b[0m\n",
      "\u001b[1;31mFileNotFoundError\u001b[0m: [Errno 2] No such file or directory: 'ASTI_Expenditures_E_All_Data_(Normalized).zip'"
     ]
    }
   ],
   "source": [
    "# Get the datasets urls\n",
    "datasets_info = scarp_all_datasets_from_the_FAO()\n",
    "# Save update table\n",
    "write_dataset_info(datasets_info)\n",
    "# Download all the .csv, save them\n",
    "first_time_download(datasets_info)"
   ]
  },
  {
   "cell_type": "code",
   "execution_count": null,
   "metadata": {},
   "outputs": [],
   "source": []
  }
 ],
 "metadata": {
  "kernelspec": {
   "display_name": "Python 3",
   "language": "python",
   "name": "python3"
  },
  "language_info": {
   "codemirror_mode": {
    "name": "ipython",
    "version": 3
   },
   "file_extension": ".py",
   "mimetype": "text/x-python",
   "name": "python",
   "nbconvert_exporter": "python",
   "pygments_lexer": "ipython3",
   "version": "3.8.2"
  }
 },
 "nbformat": 4,
 "nbformat_minor": 4
}
