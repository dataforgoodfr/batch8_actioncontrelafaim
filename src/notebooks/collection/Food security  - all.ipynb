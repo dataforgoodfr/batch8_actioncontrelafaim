{
 "cells": [
  {
   "cell_type": "markdown",
   "metadata": {},
   "source": [
    "# Food security portal datasets\n",
    "\n",
    "Running this notebooks collects all data sources from http://www.foodsecurityportal.org/ maintained by the EU. Available datasets are automatically scrapped from homepage http://www.foodsecurityportal.org/api/about."
   ]
  },
  {
   "cell_type": "markdown",
   "metadata": {},
   "source": [
    "## Settings"
   ]
  },
  {
   "cell_type": "code",
   "execution_count": 11,
   "metadata": {},
   "outputs": [],
   "source": [
    "# helpers\n",
    "from pathlib import Path\n",
    "from urllib.request import Request, urlopen\n",
    "import requests\n",
    "from datetime import datetime\n",
    "import shutil\n",
    "import tqdm\n",
    "\n",
    "# data processing\n",
    "import pandas as pd\n",
    "from bs4 import BeautifulSoup\n",
    "\n",
    "# conf\n",
    "import sys\n",
    "from path_manipulation import get_to_root\n",
    "\n",
    "sys.path[0] = get_to_root(3,sys.path[0])\n",
    "from config.config import config\n",
    "sources = config.sources"
   ]
  },
  {
   "cell_type": "code",
   "execution_count": 22,
   "metadata": {},
   "outputs": [],
   "source": [
    "def scarp_all_datasets_from_foodSecurityPortal(\n",
    "    url=sources.food_security_api_url,\n",
    "):\n",
    "    # Return a Python list that contains all links pointing to datasets to date\n",
    "    headers = {\"User-Agent\": \"Mozilla/5.0\"}\n",
    "    req = Request(url=url, headers=headers)\n",
    "    with urllib.request.urlopen(req) as page:\n",
    "        html = BeautifulSoup(page.read().decode(\"utf-8\"), \"html.parser\")\n",
    "        all_links_in_page = html.find_all(\"a\")\n",
    "        all_not_empty_links = [\n",
    "            link.get(\"href\")\n",
    "            for link in all_links_in_page\n",
    "            if (not link.get(\"href\") is None)\n",
    "        ]\n",
    "        dataset_links = [\n",
    "            link\n",
    "            for link in all_not_empty_links\n",
    "            if (\n",
    "                (link != \"/api\")\n",
    "                and (not \"documentation\" in link)\n",
    "                and (not \"about\" in link)\n",
    "                and (\"api\" in link)\n",
    "            )\n",
    "        ]\n",
    "        return dataset_links\n",
    "\n",
    "\n",
    "def get_csv_file_from_dataset(\n",
    "    dataset_links,\n",
    "    url=sources.food_security_url,\n",
    "    output_path=sources.food_security_output_folder_path,\n",
    "):\n",
    "    # Simply download corresponding .csv file while removing existing ones\n",
    "    # Could not think of better solution since it's hard to check for updates...\n",
    "\n",
    "    for dataset_url in dataset_links:\n",
    "        filename = dataset_url.split(\"/\")[-1] + \".csv\"\n",
    "        print(\"---\", dataset_url, filename)\n",
    "        r = requests.get(url + dataset_url + \".csv\")\n",
    "        with open(output_path / filename, \"wb\") as outfile:\n",
    "            outfile.write(r.content)"
   ]
  },
  {
   "cell_type": "markdown",
   "metadata": {},
   "source": [
    "## Get all datasets from http://www.foodsecurityportal.org/"
   ]
  },
  {
   "cell_type": "code",
   "execution_count": 23,
   "metadata": {},
   "outputs": [
    {
     "name": "stdout",
     "output_type": "stream",
     "text": [
      "--- http://docs.ckan.org/en/2.8/api/ .csv\n"
     ]
    },
    {
     "ename": "FileNotFoundError",
     "evalue": "[Errno 2] No such file or directory: 'C:\\\\Users\\\\charl\\\\Repositories\\\\batch8_actioncontrelafaim\\\\src\\\\notebooks\\\\collection\\\\..\\\\..\\\\..\\\\data\\\\clean\\\\food_security\\\\.csv'",
     "output_type": "error",
     "traceback": [
      "\u001b[1;31m---------------------------------------------------------------------------\u001b[0m",
      "\u001b[1;31mFileNotFoundError\u001b[0m                         Traceback (most recent call last)",
      "\u001b[1;32m<ipython-input-23-0df6eeeff642>\u001b[0m in \u001b[0;36m<module>\u001b[1;34m\u001b[0m\n\u001b[0;32m      2\u001b[0m \u001b[0mdataset_links\u001b[0m \u001b[1;33m=\u001b[0m \u001b[0mscarp_all_datasets_from_foodSecurityPortal\u001b[0m\u001b[1;33m(\u001b[0m\u001b[1;33m)\u001b[0m\u001b[1;33m\u001b[0m\u001b[1;33m\u001b[0m\u001b[0m\n\u001b[0;32m      3\u001b[0m \u001b[1;31m# Download the csv, save it\u001b[0m\u001b[1;33m\u001b[0m\u001b[1;33m\u001b[0m\u001b[1;33m\u001b[0m\u001b[0m\n\u001b[1;32m----> 4\u001b[1;33m \u001b[0mget_csv_file_from_dataset\u001b[0m\u001b[1;33m(\u001b[0m\u001b[0mdataset_links\u001b[0m\u001b[1;33m)\u001b[0m\u001b[1;33m\u001b[0m\u001b[1;33m\u001b[0m\u001b[0m\n\u001b[0m",
      "\u001b[1;32m<ipython-input-22-8365ee34fdd4>\u001b[0m in \u001b[0;36mget_csv_file_from_dataset\u001b[1;34m(dataset_links, url, output_path)\u001b[0m\n\u001b[0;32m     38\u001b[0m         \u001b[0mprint\u001b[0m\u001b[1;33m(\u001b[0m\u001b[1;34m\"---\"\u001b[0m\u001b[1;33m,\u001b[0m \u001b[0mdataset_url\u001b[0m\u001b[1;33m,\u001b[0m \u001b[0mfilename\u001b[0m\u001b[1;33m)\u001b[0m\u001b[1;33m\u001b[0m\u001b[1;33m\u001b[0m\u001b[0m\n\u001b[0;32m     39\u001b[0m         \u001b[0mr\u001b[0m \u001b[1;33m=\u001b[0m \u001b[0mrequests\u001b[0m\u001b[1;33m.\u001b[0m\u001b[0mget\u001b[0m\u001b[1;33m(\u001b[0m\u001b[0murl\u001b[0m \u001b[1;33m+\u001b[0m \u001b[0mdataset_url\u001b[0m \u001b[1;33m+\u001b[0m \u001b[1;34m\".csv\"\u001b[0m\u001b[1;33m)\u001b[0m\u001b[1;33m\u001b[0m\u001b[1;33m\u001b[0m\u001b[0m\n\u001b[1;32m---> 40\u001b[1;33m         \u001b[1;32mwith\u001b[0m \u001b[0mopen\u001b[0m\u001b[1;33m(\u001b[0m\u001b[0moutput_path\u001b[0m \u001b[1;33m/\u001b[0m \u001b[0mfilename\u001b[0m\u001b[1;33m,\u001b[0m \u001b[1;34m\"wb\"\u001b[0m\u001b[1;33m)\u001b[0m \u001b[1;32mas\u001b[0m \u001b[0moutfile\u001b[0m\u001b[1;33m:\u001b[0m\u001b[1;33m\u001b[0m\u001b[1;33m\u001b[0m\u001b[0m\n\u001b[0m\u001b[0;32m     41\u001b[0m             \u001b[0moutfile\u001b[0m\u001b[1;33m.\u001b[0m\u001b[0mwrite\u001b[0m\u001b[1;33m(\u001b[0m\u001b[0mr\u001b[0m\u001b[1;33m.\u001b[0m\u001b[0mcontent\u001b[0m\u001b[1;33m)\u001b[0m\u001b[1;33m\u001b[0m\u001b[1;33m\u001b[0m\u001b[0m\n",
      "\u001b[1;31mFileNotFoundError\u001b[0m: [Errno 2] No such file or directory: 'C:\\\\Users\\\\charl\\\\Repositories\\\\batch8_actioncontrelafaim\\\\src\\\\notebooks\\\\collection\\\\..\\\\..\\\\..\\\\data\\\\clean\\\\food_security\\\\.csv'"
     ]
    }
   ],
   "source": [
    "# Get the datasets urls\n",
    "dataset_links = scarp_all_datasets_from_foodSecurityPortal()\n",
    "# Download the csv, save it\n",
    "get_csv_file_from_dataset(dataset_links)"
   ]
  }
 ],
 "metadata": {
  "kernelspec": {
   "display_name": "Python 3",
   "language": "python",
   "name": "python3"
  },
  "language_info": {
   "codemirror_mode": {
    "name": "ipython",
    "version": 3
   },
   "file_extension": ".py",
   "mimetype": "text/x-python",
   "name": "python",
   "nbconvert_exporter": "python",
   "pygments_lexer": "ipython3",
   "version": "3.8.3"
  }
 },
 "nbformat": 4,
 "nbformat_minor": 4
}
