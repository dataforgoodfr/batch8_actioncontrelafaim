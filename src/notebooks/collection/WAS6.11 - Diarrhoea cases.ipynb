{
 "cells": [
  {
   "cell_type": "markdown",
   "metadata": {},
   "source": [
    "# WAS6.11 - Diarrhoea cases data download+cleaning\n",
    "Github issue: https://github.com/dataforgoodfr/batch8_actioncontrelafaim/issues/2\n",
    "\n",
    "/!\\ Some strata could be kept (see below)"
   ]
  },
  {
   "cell_type": "markdown",
   "metadata": {},
   "source": [
    "## Settings"
   ]
  },
  {
   "cell_type": "code",
   "execution_count": 1,
   "metadata": {},
   "outputs": [],
   "source": [
    "from pathlib import Path\n",
    "\n",
    "NormalizedPath = lambda x: Path(os.path.normpath(os.path.normcase(x)))\n",
    "import os\n",
    "\n",
    "# conf\n",
    "import sys\n",
    "from path_manipulation import get_to_root\n",
    "\n",
    "sys.path[0] = get_to_root(3,sys.path[0])\n",
    "from config.config import config\n",
    "sources = config.sources\n",
    "meta = config.meta"
   ]
  },
  {
   "cell_type": "code",
   "execution_count": 2,
   "metadata": {},
   "outputs": [],
   "source": [
    "# Target ressource\n",
    "output_path = NormalizedPath(\n",
    "    sources.was611_diarrhoea_cases_output_path\n",
    ")\n",
    "dataset_name = sources.was611_diarrhoea_dataset_name\n",
    "ressource_index = sources.was611_diarrhoea_ressource_index\n",
    "output_data_folder = NormalizedPath(sources.was611_diarrhoea_output_folder_path)\n",
    "countries_ISO_3166_1_csv_path = NormalizedPath(meta.countries_ISO_3166_1_csv_path)"
   ]
  },
  {
   "cell_type": "code",
   "execution_count": 3,
   "metadata": {},
   "outputs": [
    {
     "data": {
      "text/plain": [
       "(WindowsPath('c:/users/charl/repositories/batch8_actioncontrelafaim/data/sources'),\n",
       " WindowsPath('c:/users/charl/repositories/batch8_actioncontrelafaim/data/meta/countries - iso 3166-1.csv'))"
      ]
     },
     "execution_count": 3,
     "metadata": {},
     "output_type": "execute_result"
    }
   ],
   "source": [
    "output_data_folder, countries_ISO_3166_1_csv_path"
   ]
  },
  {
   "cell_type": "markdown",
   "metadata": {},
   "source": [
    "## Download"
   ]
  },
  {
   "cell_type": "code",
   "execution_count": 4,
   "metadata": {},
   "outputs": [],
   "source": [
    "from hdx.hdx_configuration import Configuration\n",
    "from hdx.data.dataset import Dataset"
   ]
  },
  {
   "cell_type": "code",
   "execution_count": 5,
   "metadata": {},
   "outputs": [],
   "source": [
    "try:\n",
    "    Configuration.create(hdx_site=\"prod\", user_agent=\"D4G_ACF\", hdx_read_only=True)\n",
    "except:\n",
    "    pass\n",
    "dataset = Dataset.read_from_hdx(dataset_name)\n",
    "resources = dataset.get_resources()"
   ]
  },
  {
   "cell_type": "code",
   "execution_count": 6,
   "metadata": {},
   "outputs": [
    {
     "name": "stdout",
     "output_type": "stream",
     "text": [
      "Resource URL https://sdmx.data.unicef.org/ws/public/sdmxapi/rest/data/UNICEF,MNCH,1.0/.MNCH_DIARCARE.......?format=csv downloaded to c:\\users\\charl\\repositories\\batch8_actioncontrelafaim\\data\\sources\\Careseeking for diarrhoea - percentage of children (under age 5) with diarrhoea for whom advice or treatment was sought from a health facility or provider (CSV).CSV\n"
     ]
    }
   ],
   "source": [
    "# TODO / warning : the data should be erased first to have a real update ?\n",
    "url, path = resources[ressource_index].download(folder=output_data_folder)\n",
    "print(\"Resource URL %s downloaded to %s\" % (url, path))"
   ]
  },
  {
   "cell_type": "markdown",
   "metadata": {},
   "source": [
    "## Clean"
   ]
  },
  {
   "cell_type": "code",
   "execution_count": 7,
   "metadata": {
    "scrolled": false
   },
   "outputs": [],
   "source": [
    "# # Audit\n",
    "# import pandas as pd\n",
    "# df = pd.read_csv(path)\n",
    "# print(df.columns, df.shape, df.notna().sum(axis=0))\n",
    "# df.head()"
   ]
  },
  {
   "cell_type": "code",
   "execution_count": 8,
   "metadata": {},
   "outputs": [
    {
     "name": "stdout",
     "output_type": "stream",
     "text": [
      "(4213, 25)\n",
      "(4213, 18)\n",
      "(374, 12)\n",
      "(374, 5)\n"
     ]
    },
    {
     "data": {
      "text/html": [
       "<div>\n",
       "<style scoped>\n",
       "    .dataframe tbody tr th:only-of-type {\n",
       "        vertical-align: middle;\n",
       "    }\n",
       "\n",
       "    .dataframe tbody tr th {\n",
       "        vertical-align: top;\n",
       "    }\n",
       "\n",
       "    .dataframe thead th {\n",
       "        text-align: right;\n",
       "    }\n",
       "</style>\n",
       "<table border=\"1\" class=\"dataframe\">\n",
       "  <thead>\n",
       "    <tr style=\"text-align: right;\">\n",
       "      <th></th>\n",
       "      <th>country_name</th>\n",
       "      <th>indicator</th>\n",
       "      <th>data_source</th>\n",
       "      <th>time_period</th>\n",
       "      <th>indicator_value</th>\n",
       "    </tr>\n",
       "  </thead>\n",
       "  <tbody>\n",
       "    <tr>\n",
       "      <th>4</th>\n",
       "      <td>Afghanistan</td>\n",
       "      <td>Careseeking for diarrhoea - percentage of chil...</td>\n",
       "      <td>Multiple Indicator Cluster Survey 2010-2011</td>\n",
       "      <td>2011</td>\n",
       "      <td>18.1</td>\n",
       "    </tr>\n",
       "    <tr>\n",
       "      <th>17</th>\n",
       "      <td>Afghanistan</td>\n",
       "      <td>Careseeking for diarrhoea - percentage of chil...</td>\n",
       "      <td>Demographic and Health Survey 2015</td>\n",
       "      <td>2015</td>\n",
       "      <td>54.2</td>\n",
       "    </tr>\n",
       "  </tbody>\n",
       "</table>\n",
       "</div>"
      ],
      "text/plain": [
       "   country_name                                          indicator  \\\n",
       "4   Afghanistan  Careseeking for diarrhoea - percentage of chil...   \n",
       "17  Afghanistan  Careseeking for diarrhoea - percentage of chil...   \n",
       "\n",
       "                                    data_source  time_period  indicator_value  \n",
       "4   Multiple Indicator Cluster Survey 2010-2011         2011             18.1  \n",
       "17           Demographic and Health Survey 2015         2015             54.2  "
      ]
     },
     "execution_count": 8,
     "metadata": {},
     "output_type": "execute_result"
    }
   ],
   "source": [
    "import pandas as pd\n",
    "\n",
    "df = pd.read_csv(path)\n",
    "print(df.shape)\n",
    "df = df[df.columns[df.notna().sum(axis=0) > 0]]\n",
    "print(df.shape)\n",
    "df = df[\n",
    "    (df[\"Mother's Education Level\"] == \"Total\")\n",
    "    & (df[\"Sex\"] == \"Total\")\n",
    "    & (df[\"Wealth Quintile\"] == \"Total\")\n",
    "    & (df[\"Residence\"] == \"Total\")\n",
    "    & (df[\"Age at Birth\"] == \"Total\")\n",
    "    & (df[\"Current age\"] == \"Under 5 years old\")\n",
    "]\n",
    "\n",
    "df = df.drop(\n",
    "    columns=[\n",
    "        \"Mother's Education Level\",\n",
    "        \"Sex\",\n",
    "        \"Wealth Quintile\",\n",
    "        \"Residence\",\n",
    "        \"Age at Birth\",\n",
    "        \"Current age\",\n",
    "    ]\n",
    ")\n",
    "print(df.shape)\n",
    "assert df[\"Unit multiplier\"].drop_duplicates().shape == (1,)\n",
    "assert df[\"Unit of measure\"].drop_duplicates().shape == (1,)\n",
    "assert df[\"Observation confidentaility\"].drop_duplicates().shape == (\n",
    "    1,\n",
    ")  # Reanalyzed ===> larger region e.g. Oceania\n",
    "assert df[\"Observation Status\"].drop_duplicates().shape == (\n",
    "    2,\n",
    ")  # Reanalyzed ===> larger region e.g. Oceania\n",
    "assert df[\"SUB_SECTOR\"].drop_duplicates().shape == (1,)\n",
    "assert df[df[\"UNWGTD_SAMPL_SIZE\"].notna()].sort_values(\"OBS_VALUE\")[\n",
    "    \"Geographic area\"\n",
    "].shape < (\n",
    "    35,\n",
    ")  # highly missing information\n",
    "assert df[\"OBS_FOOTNOTE\"].notna().sum() == 0\n",
    "df = df.drop(\n",
    "    columns=[\n",
    "        \"Unit multiplier\",\n",
    "        \"Unit of measure\",\n",
    "        \"SUB_SECTOR\",\n",
    "        \"Observation Status\",\n",
    "        \"Observation confidentaility\",\n",
    "        \"SUB_SECTOR\",\n",
    "        \"UNWGTD_SAMPL_SIZE\",\n",
    "        \"OBS_FOOTNOTE\",\n",
    "    ],\n",
    ")\n",
    "print(df.shape)\n",
    "df = df.rename(\n",
    "    columns={\n",
    "        \"Geographic area\": \"country_name\",\n",
    "        \"Indicator\": \"indicator\",\n",
    "        \"Data Source\": \"data_source\",\n",
    "        \"TIME_PERIOD\": \"time_period\",\n",
    "        \"OBS_VALUE\": \"indicator_value\",\n",
    "    }\n",
    ")\n",
    "df.head(2)"
   ]
  },
  {
   "cell_type": "markdown",
   "metadata": {},
   "source": [
    "## Complete with country codes"
   ]
  },
  {
   "cell_type": "code",
   "execution_count": 9,
   "metadata": {},
   "outputs": [
    {
     "name": "stdout",
     "output_type": "stream",
     "text": [
      "(331, 6)\n"
     ]
    },
    {
     "data": {
      "text/html": [
       "<div>\n",
       "<style scoped>\n",
       "    .dataframe tbody tr th:only-of-type {\n",
       "        vertical-align: middle;\n",
       "    }\n",
       "\n",
       "    .dataframe tbody tr th {\n",
       "        vertical-align: top;\n",
       "    }\n",
       "\n",
       "    .dataframe thead th {\n",
       "        text-align: right;\n",
       "    }\n",
       "</style>\n",
       "<table border=\"1\" class=\"dataframe\">\n",
       "  <thead>\n",
       "    <tr style=\"text-align: right;\">\n",
       "      <th></th>\n",
       "      <th>country_name</th>\n",
       "      <th>indicator</th>\n",
       "      <th>data_source</th>\n",
       "      <th>time_period</th>\n",
       "      <th>indicator_value</th>\n",
       "      <th>country_iso_alpha3</th>\n",
       "    </tr>\n",
       "  </thead>\n",
       "  <tbody>\n",
       "    <tr>\n",
       "      <th>0</th>\n",
       "      <td>Afghanistan</td>\n",
       "      <td>Careseeking for diarrhoea - percentage of chil...</td>\n",
       "      <td>Multiple Indicator Cluster Survey 2010-2011</td>\n",
       "      <td>2011</td>\n",
       "      <td>18.1</td>\n",
       "      <td>afg</td>\n",
       "    </tr>\n",
       "    <tr>\n",
       "      <th>1</th>\n",
       "      <td>Afghanistan</td>\n",
       "      <td>Careseeking for diarrhoea - percentage of chil...</td>\n",
       "      <td>Demographic and Health Survey 2015</td>\n",
       "      <td>2015</td>\n",
       "      <td>54.2</td>\n",
       "      <td>afg</td>\n",
       "    </tr>\n",
       "  </tbody>\n",
       "</table>\n",
       "</div>"
      ],
      "text/plain": [
       "  country_name                                          indicator  \\\n",
       "0  Afghanistan  Careseeking for diarrhoea - percentage of chil...   \n",
       "1  Afghanistan  Careseeking for diarrhoea - percentage of chil...   \n",
       "\n",
       "                                   data_source  time_period  indicator_value  \\\n",
       "0  Multiple Indicator Cluster Survey 2010-2011         2011             18.1   \n",
       "1           Demographic and Health Survey 2015         2015             54.2   \n",
       "\n",
       "  country_iso_alpha3  \n",
       "0                afg  \n",
       "1                afg  "
      ]
     },
     "execution_count": 9,
     "metadata": {},
     "output_type": "execute_result"
    }
   ],
   "source": [
    "countries_iso = pd.read_csv(countries_ISO_3166_1_csv_path)\n",
    "countries_iso = countries_iso[[\"name\", \"alpha3\"]]\n",
    "countries_iso.columns = [\"country_name\", \"country_iso_alpha3\"]\n",
    "df = df.merge(\n",
    "    countries_iso, left_on=\"country_name\", right_on=\"country_name\", how=\"inner\"\n",
    ")  # ignoring region with left join\n",
    "print(df.shape)\n",
    "df.head(2)"
   ]
  },
  {
   "cell_type": "markdown",
   "metadata": {},
   "source": [
    "# Save"
   ]
  },
  {
   "cell_type": "code",
   "execution_count": 10,
   "metadata": {},
   "outputs": [],
   "source": [
    "output_path.parent.mkdir(parents=True, exist_ok=True)\n",
    "df.to_csv(output_path, sep=\";\")"
   ]
  },
  {
   "cell_type": "code",
   "execution_count": null,
   "metadata": {},
   "outputs": [],
   "source": []
  },
  {
   "cell_type": "code",
   "execution_count": 11,
   "metadata": {
    "tags": [
     "dev"
    ]
   },
   "outputs": [
    {
     "data": {
      "text/html": [
       "<div>\n",
       "<style scoped>\n",
       "    .dataframe tbody tr th:only-of-type {\n",
       "        vertical-align: middle;\n",
       "    }\n",
       "\n",
       "    .dataframe tbody tr th {\n",
       "        vertical-align: top;\n",
       "    }\n",
       "\n",
       "    .dataframe thead th {\n",
       "        text-align: right;\n",
       "    }\n",
       "</style>\n",
       "<table border=\"1\" class=\"dataframe\">\n",
       "  <thead>\n",
       "    <tr style=\"text-align: right;\">\n",
       "      <th></th>\n",
       "      <th>country_name</th>\n",
       "      <th>country_iso_alpha3</th>\n",
       "    </tr>\n",
       "  </thead>\n",
       "  <tbody>\n",
       "    <tr>\n",
       "      <th>0</th>\n",
       "      <td>Afghanistan</td>\n",
       "      <td>afg</td>\n",
       "    </tr>\n",
       "    <tr>\n",
       "      <th>1</th>\n",
       "      <td>Albania</td>\n",
       "      <td>alb</td>\n",
       "    </tr>\n",
       "    <tr>\n",
       "      <th>2</th>\n",
       "      <td>Algeria</td>\n",
       "      <td>dza</td>\n",
       "    </tr>\n",
       "    <tr>\n",
       "      <th>3</th>\n",
       "      <td>Andorra</td>\n",
       "      <td>and</td>\n",
       "    </tr>\n",
       "    <tr>\n",
       "      <th>4</th>\n",
       "      <td>Angola</td>\n",
       "      <td>ago</td>\n",
       "    </tr>\n",
       "    <tr>\n",
       "      <th>...</th>\n",
       "      <td>...</td>\n",
       "      <td>...</td>\n",
       "    </tr>\n",
       "    <tr>\n",
       "      <th>188</th>\n",
       "      <td>Venezuela (Bolivarian Republic of)</td>\n",
       "      <td>ven</td>\n",
       "    </tr>\n",
       "    <tr>\n",
       "      <th>189</th>\n",
       "      <td>Viet Nam</td>\n",
       "      <td>vnm</td>\n",
       "    </tr>\n",
       "    <tr>\n",
       "      <th>190</th>\n",
       "      <td>Yemen</td>\n",
       "      <td>yem</td>\n",
       "    </tr>\n",
       "    <tr>\n",
       "      <th>191</th>\n",
       "      <td>Zambia</td>\n",
       "      <td>zmb</td>\n",
       "    </tr>\n",
       "    <tr>\n",
       "      <th>192</th>\n",
       "      <td>Zimbabwe</td>\n",
       "      <td>zwe</td>\n",
       "    </tr>\n",
       "  </tbody>\n",
       "</table>\n",
       "<p>193 rows × 2 columns</p>\n",
       "</div>"
      ],
      "text/plain": [
       "                           country_name country_iso_alpha3\n",
       "0                           Afghanistan                afg\n",
       "1                               Albania                alb\n",
       "2                               Algeria                dza\n",
       "3                               Andorra                and\n",
       "4                                Angola                ago\n",
       "..                                  ...                ...\n",
       "188  Venezuela (Bolivarian Republic of)                ven\n",
       "189                            Viet Nam                vnm\n",
       "190                               Yemen                yem\n",
       "191                              Zambia                zmb\n",
       "192                            Zimbabwe                zwe\n",
       "\n",
       "[193 rows x 2 columns]"
      ]
     },
     "execution_count": 11,
     "metadata": {},
     "output_type": "execute_result"
    }
   ],
   "source": [
    "countries_iso"
   ]
  }
 ],
 "metadata": {
  "celltoolbar": "Tags",
  "kernelspec": {
   "display_name": "Python 3",
   "language": "python",
   "name": "python3"
  },
  "language_info": {
   "codemirror_mode": {
    "name": "ipython",
    "version": 3
   },
   "file_extension": ".py",
   "mimetype": "text/x-python",
   "name": "python",
   "nbconvert_exporter": "python",
   "pygments_lexer": "ipython3",
   "version": "3.8.3"
  }
 },
 "nbformat": 4,
 "nbformat_minor": 4
}
