{
 "cells": [
  {
   "cell_type": "markdown",
   "metadata": {},
   "source": [
    "# Food security portal datasets\n",
    "\n",
    "Running this notebooks collects all data sources from http://www.foodsecurityportal.org/ maintained by the EU. Available datasets are automatically scrapped from homepage http://www.foodsecurityportal.org/api/about."
   ]
  },
  {
   "cell_type": "markdown",
   "metadata": {},
   "source": [
    "## Settings"
   ]
  },
  {
   "cell_type": "code",
   "execution_count": 6,
   "metadata": {},
   "outputs": [],
   "source": [
    "# helpers\n",
    "from pathlib import Path\n",
    "import urllib.request\n",
    "from datetime import datetime\n",
    "import shutil\n",
    "import tqdm\n",
    "\n",
    "# data processing\n",
    "import pandas as pd\n",
    "from bs4 import BeautifulSoup"
   ]
  },
  {
   "cell_type": "code",
   "execution_count": 18,
   "metadata": {},
   "outputs": [],
   "source": [
    "def scarp_all_datasets_from_foodSecurityPortal(url = \"http://www.foodsecurityportal.org/api/about\"):\n",
    "    # Return a Python list that contains all links pointing to datasets to date\n",
    "    \n",
    "    with urllib.request.urlopen(url) as page:\n",
    "        html = BeautifulSoup(page.read().decode('utf-8'), 'html.parser')\n",
    "        all_links_in_page = html.find_all('a')\n",
    "        all_not_empty_links = [link.get('href') for link in all_links_in_page if (not link.get('href') is None)]\n",
    "        dataset_links = [link for link in all_not_empty_links if ((link != '/api') and\n",
    "                                                             (not 'documentation' in link) and\n",
    "                                                             (not 'about' in link) and \n",
    "                                                             ('api' in link))]\n",
    "        return dataset_links\n",
    "\n",
    "def get_csv_file_from_dataset(dataset_links, url = \"http://www.foodsecurityportal.org\",\n",
    "                                  output_path = Path('../../data/clean/food_security/')):\n",
    "    # Simply download corresponding .csv file while removing existing ones\n",
    "    # Could not think of better solution since it's hard to check for updates...\n",
    "    \n",
    "    for dataset_url in dataset_links:\n",
    "        filename = dataset_url.split(\"/\")[-1] + \".csv\"\n",
    "        urllib.request.urlretrieve(url + dataset_url + \".csv\", output_path / filename)\n",
    "        \n"
   ]
  },
  {
   "cell_type": "markdown",
   "metadata": {},
   "source": [
    "## Get all datasets from http://www.foodsecurityportal.org/"
   ]
  },
  {
   "cell_type": "code",
   "execution_count": null,
   "metadata": {},
   "outputs": [],
   "source": [
    "# Get the datasets urls\n",
    "dataset_links = scarp_all_datasets_from_foodSecurityPortal()\n",
    "# Download the csv, save it\n",
    "get_csv_file_from_dataset(dataset_links)"
   ]
  }
 ],
 "metadata": {
  "kernelspec": {
   "display_name": "Python 3",
   "language": "python",
   "name": "python3"
  },
  "language_info": {
   "codemirror_mode": {
    "name": "ipython",
    "version": 3
   },
   "file_extension": ".py",
   "mimetype": "text/x-python",
   "name": "python",
   "nbconvert_exporter": "python",
   "pygments_lexer": "ipython3",
   "version": "3.8.3"
  }
 },
 "nbformat": 4,
 "nbformat_minor": 4
}
