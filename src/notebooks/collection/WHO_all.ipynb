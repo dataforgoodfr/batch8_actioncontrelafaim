{
  "nbformat": 4,
  "nbformat_minor": 0,
  "metadata": {
    "kernelspec": {
      "display_name": "Python 3",
      "language": "python",
      "name": "python3"
    },
    "language_info": {
      "codemirror_mode": {
        "name": "ipython",
        "version": 3
      },
      "file_extension": ".py",
      "mimetype": "text/x-python",
      "name": "python",
      "nbconvert_exporter": "python",
      "pygments_lexer": "ipython3",
      "version": "3.8.3"
    },
    "colab": {
      "name": "Food security  -all.ipynb",
      "provenance": [],
      "collapsed_sections": []
    }
  },
  "cells": [
    {
      "cell_type": "markdown",
      "metadata": {
        "id": "2h4BVL2gXlXj"
      },
      "source": [
        "# WHO datasets\n",
        "\n",
        "Running this notebooks collects all data sources from the WHO. Available datasets are automatically scrapped from homepage https://apps.who.int/gho/data/node.imr."
      ]
    },
    {
      "cell_type": "markdown",
      "metadata": {
        "id": "2QoIw5ckXlXo"
      },
      "source": [
        "## Settings"
      ]
    },
    {
      "cell_type": "code",
      "metadata": {
        "id": "OyKxDGjYXlXs"
      },
      "source": [
        "# helpers\n",
        "from pathlib import Path\n",
        "import urllib.request\n",
        "from datetime import datetime\n",
        "import shutil\n",
        "import tqdm\n",
        "\n",
        "# data processing\n",
        "import pandas as pd\n",
        "from bs4 import BeautifulSoup"
      ],
      "execution_count": 1,
      "outputs": []
    },
    {
      "cell_type": "code",
      "metadata": {
        "id": "4fzmf2vKXlYA"
      },
      "source": [
        "def clean_filename(filename):\n",
        "  return filename.replace(\"/\", \"\")\n",
        "\n",
        "def scarp_all_datasets_from_WHO(url = \"https://apps.who.int/gho/data/node.imr\"):\n",
        "    # Return a Python dictionnary that contains all links pointing to datasets to date\n",
        "    # dataset name -> dataset url\n",
        "    \n",
        "    with urllib.request.urlopen(url) as page:\n",
        "        html = BeautifulSoup(page.read().decode('utf-8'), 'html.parser')\n",
        "        all_links_in_page = html.find_all('a')\n",
        "\n",
        "        #only dataset urls beginning by 'node.imr' are relevant\n",
        "        all_not_empty_links = {clean_filename(link.text) : link.get('href') for link in all_links_in_page if (not link.get('href') is None) and (\"node.imr.\" in link.get('href'))}\n",
        "        return all_not_empty_links\n",
        "\n",
        "def get_csv_file_from_dataset(dataset_links, url =  \"https://apps.who.int/gho/athena/data/GHO/\",\n",
        "                                  output_path = Path('../../data/clean/WHO/')):\n",
        "    # Simply download corresponding .csv file while removing existing ones\n",
        "    # Could not think of better solution since it's hard to check for updates...\n",
        "    \n",
        "    for dataset_name in dataset_links.keys():\n",
        "        filename = dataset_links[dataset_name].split(\"node.imr.\")[1]\n",
        "        urllib.request.urlretrieve(url + filename + \"?format=csv\", (dataset_name + \".csv\"))\n",
        "        \n"
      ],
      "execution_count": 21,
      "outputs": []
    },
    {
      "cell_type": "markdown",
      "metadata": {
        "id": "_DQMiS9GXlYN"
      },
      "source": [
        "## Get all datasets from WHO"
      ]
    },
    {
      "cell_type": "code",
      "metadata": {
        "id": "nz2yydAuXlYP"
      },
      "source": [
        "# Get the datasets urls\n",
        "dataset_links = scarp_all_datasets_from_WHO()\n",
        "# Download the csv, save it\n",
        "get_csv_file_from_dataset(dataset_links)"
      ],
      "execution_count": null,
      "outputs": []
    }
  ]
}