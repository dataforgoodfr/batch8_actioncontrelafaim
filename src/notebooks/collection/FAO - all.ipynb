{
 "cells": [
  {
   "cell_type": "markdown",
   "metadata": {},
   "source": [
    "# FAO datasets\n",
    "\n",
    "Running this notebooks collects all data price sources from http://www.fao.org/faostat/en/#home which is an UN organization. Available datasets are automatically scrapped from homepage."
   ]
  },
  {
   "cell_type": "markdown",
   "metadata": {},
   "source": [
    "## Settings"
   ]
  },
  {
   "cell_type": "code",
   "execution_count": 2,
   "metadata": {},
   "outputs": [],
   "source": [
    "# helpers\n",
    "from pathlib import Path\n",
    "import urllib.request\n",
    "from datetime import datetime\n",
    "import shutil\n",
    "import tqdm\n",
    "\n",
    "# data processing\n",
    "import pandas as pd\n",
    "import os\n",
    "from zipfile import ZipFile\n",
    "from bs4 import BeautifulSoup"
   ]
  },
  {
   "cell_type": "code",
   "execution_count": 3,
   "metadata": {},
   "outputs": [],
   "source": [
    "def scarp_all_datasets_from_the_FAO(url = \"http://fenixservices.fao.org/faostat/static/bulkdownloads/datasets_E.xml\"):\n",
    "    # Return a Python dictionnary from XML file on the FAO website dataset name -> (link, update date)\n",
    "    \n",
    "    with urllib.request.urlopen(url) as page:\n",
    "        \n",
    "        # Parse .xml file\n",
    "        xml = BeautifulSoup(page.read(), \"lxml\")\n",
    "        \n",
    "        # Get all dataset info\n",
    "        datasets_info = {}\n",
    "        for dataset in xml.find_all('dataset'):\n",
    "                datasets_info[dataset.datasetname.text] = (dataset.filelocation.text, dataset.dateupdate.text) \n",
    "        \n",
    "        return datasets_info\n",
    "\n",
    "def first_time_download(datasets_info,  output_path = Path('../../data/clean/FAO/')):\n",
    "    # Download corresponding all .csv files while removing existing ones\n",
    "    \n",
    "    for dataset_name in datasets_info.keys():\n",
    "        \n",
    "        filename = datasets_info[dataset_name][0].split(\"/\")[-1]\n",
    "        path = datasets_info[dataset_name][0]\n",
    "        \n",
    "        # Get file\n",
    "        urllib.request.urlretrieve(path, output_path / filename)\n",
    "        \n",
    "        # Extract all the contents of zip file in current directory\n",
    "        with ZipFile(filename, 'r') as zipObj:\n",
    "           zipObj.extractall()\n",
    "        \n",
    "        # Delete zip file\n",
    "        os.remove(filename)\n",
    "\n",
    "def write_dataset_info(datasets_info, output_path = Path('../../data/meta/FAO_info.csv')):\n",
    "    dataframe = pd.df.from_dict(datasets_info)\n",
    "    dataframe.to_csv(output_path)\n",
    "\n",
    "def update(datasets_info, input_path, output_path = Path('/content')):\n",
    "    # Download if dataset needs an update\n",
    "    \n",
    "    # Get old version\n",
    "    already_installed = pd.read_csv(input_path)\n",
    "\n",
    "    for dataset_name in datasets_info.keys():\n",
    "        # New version update\n",
    "        filename = datasets_info[dataset_name][0].split(\"/\")[-1]\n",
    "        new_date = datasets_info[dataset_name][1]\n",
    "        \n",
    "        # Old version udpate\n",
    "        old_date = already_installed[dataset_name][1]\n",
    "\n",
    "        if old_date < new_date::\n",
    "\n",
    "            #download version\n",
    "            path = datasets_info[dataset_name][0]\n",
    "            urllib.request.urlretrieve(path, output_path / filename)\n",
    "            \n",
    "            with ZipFile(filename, 'r') as zipObj:\n",
    "                # Extract all the contents of zip file in current directory\n",
    "              zipObj.extractall()\n",
    "\n",
    "            os.remove(filename)"
   ]
  },
  {
   "cell_type": "markdown",
   "metadata": {},
   "source": [
    "## Get all datasets from http://www.foodsecurityportal.org/"
   ]
  },
  {
   "cell_type": "code",
   "execution_count": null,
   "metadata": {},
   "outputs": [],
   "source": [
    "# Get the datasets urls\n",
    "datasets_info = scarp_all_datasets_from_the_FAO()\n",
    "# Save update table\n",
    "write_dataset_info(datasets_info)\n",
    "# Download all the .csv, save them\n",
    "first_time_download(datasets_info)"
   ]
  }
 ],
 "metadata": {
  "kernelspec": {
   "display_name": "Python 3",
   "language": "python",
   "name": "python3"
  }
 },
 "nbformat": 4,
 "nbformat_minor": 4
}
