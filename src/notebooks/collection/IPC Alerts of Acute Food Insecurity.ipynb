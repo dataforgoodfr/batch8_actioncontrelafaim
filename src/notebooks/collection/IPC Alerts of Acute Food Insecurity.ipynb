{
 "cells": [
  {
   "cell_type": "markdown",
   "metadata": {},
   "source": [
    "# IPC Alerts of Acute Food Insecurity\n",
    "Capture current IPC alerts as displayed on this ipcinfo.org [page](http://www.ipcinfo.org/ipcinfo-website/resources/alerts-archive/en/)."
   ]
  },
  {
   "cell_type": "code",
   "execution_count": 1,
   "metadata": {},
   "outputs": [],
   "source": [
    "# General imports\n",
    "# helpers\n",
    "from pathlib import Path\n",
    "import urllib.request\n",
    "from datetime import datetime\n",
    "from tqdm import tqdm\n",
    "import copy\n",
    "\n",
    "# data processing\n",
    "import pandas as pd\n",
    "import requests\n",
    "from urllib.request import Request, urlopen\n",
    "\n",
    "from bs4 import BeautifulSoup\n",
    "\n",
    "# conf\n",
    "import sys\n",
    "from path_manipulation import get_to_root\n",
    "\n",
    "sys.path[0] = get_to_root(3,sys.path[0])\n",
    "from config.config import config\n",
    "sources = config.sources"
   ]
  },
  {
   "cell_type": "markdown",
   "metadata": {},
   "source": [
    "## Finding all alerts, then finding all related documents"
   ]
  },
  {
   "cell_type": "code",
   "execution_count": 2,
   "metadata": {
    "scrolled": false
   },
   "outputs": [],
   "source": [
    "def get_all_alerts_hyperlinks(url):\n",
    "    # Find all hyperlinks for alerts on the page,\n",
    "    headers = {\"User-Agent\": \"Mozilla/5.0\"}\n",
    "    req = Request(url=url, headers=headers)\n",
    "    with urllib.request.urlopen(req) as page:\n",
    "\n",
    "        # Parse .xml file\n",
    "        xml = BeautifulSoup(page.read(), \"lxml\")\n",
    "\n",
    "        # Get all dataset info\n",
    "        links = []\n",
    "        for link in xml.findAll(\"a\"):\n",
    "            title = link.get(\"title\")\n",
    "            url = link.get(\"href\")\n",
    "            if (\n",
    "                (title is not None)\n",
    "                and (title != \"image thumbnail\")\n",
    "                and (url.startswith(\"/ipcinfo-website/alerts-archive/issue-\"))\n",
    "            ):\n",
    "                url = \"http://www.ipcinfo.org\" + url\n",
    "                links.append({\"title\": title, \"url\": url})\n",
    "    # TODO: add the alerts paragraph to the metadata\n",
    "    return links"
   ]
  },
  {
   "cell_type": "code",
   "execution_count": 3,
   "metadata": {
    "scrolled": true
   },
   "outputs": [],
   "source": [
    "def get_pdf_from_url(url, output_path=None):\n",
    "    \"\"\"Download a pdf from a given url.\n",
    "    :param url: web url from where to download the pdf\n",
    "    :param output_path: a pathlib.Path object to which to write the downloaded pdf\n",
    "    \"\"\"\n",
    "    # create the folder if not existing\n",
    "    output_path.parent.mkdir(parents=True, exist_ok=True)\n",
    "    # download\n",
    "    r = requests.get(url)\n",
    "    with open(output_path, \"wb\") as outfile:\n",
    "        outfile.write(r.content)\n",
    "\n",
    "\n",
    "def get_all_documents_from_alerts_references(links):\n",
    "    documents = []\n",
    "    for link in tqdm(links):\n",
    "        headers = {\"User-Agent\": \"Mozilla/5.0\"}\n",
    "        req = Request(url=link[\"url\"], headers=headers)\n",
    "\n",
    "        with urllib.request.urlopen(req) as page:\n",
    "            xml = BeautifulSoup(page.read(), \"lxml\")\n",
    "            alert_page_title = xml.find(\"div\", class_=\"csc-header csc-header-n2\").text\n",
    "\n",
    "            # TODO : Using spacy entity recognition, find the country/region + map it to ISO code\n",
    "\n",
    "            for new_link in xml.find_all(\"a\"):\n",
    "                href = new_link.get(\"href\")\n",
    "                if href.endswith(\".pdf\"):\n",
    "                    if href.startswith(\"/\"):\n",
    "                        href = \"http://www.ipcinfo.org\" + href\n",
    "                    # For each download, based on the pdf's name (report/annexes/snapshots, etc...), indicate the type of file in a metadata file\n",
    "                    document_type = \"unknown_type\"\n",
    "                    pdf_filename = href.split(\"/\")[-1]\n",
    "                    for potential_document_type in [\"snapshot\", \"report\", \"annexes\"]:\n",
    "                        if potential_document_type in pdf_filename.lower():\n",
    "                            document_type = potential_document_type\n",
    "                    output_path = output_folder_path / pdf_filename\n",
    "                    link.update(\n",
    "                        {\n",
    "                            \"alert_page_title\": alert_page_title,\n",
    "                            \"pdf_url\": href,\n",
    "                            \"document_type\": document_type,\n",
    "                            \"pdf_local_path\": str(output_path),\n",
    "                        }\n",
    "                    )\n",
    "                    # Download the items\n",
    "                    get_pdf_from_url(href, output_path=output_path)\n",
    "                    documents.append(copy.copy(link))\n",
    "\n",
    "    # save the resulting csv of metadata\n",
    "    df = pd.DataFrame.from_dict(documents)\n",
    "    df.to_csv(output_metadata_path, sep=\";\", index=False)\n",
    "    return df"
   ]
  },
  {
   "cell_type": "markdown",
   "metadata": {},
   "source": [
    "## Scrape them all"
   ]
  },
  {
   "cell_type": "code",
   "execution_count": 7,
   "metadata": {},
   "outputs": [
    {
     "name": "stderr",
     "output_type": "stream",
     "text": [
      "100%|█████████████████████████████████████████████████████████████████████████████████████████████████████████████████████████████████████████████████████| 21/21 [00:46<00:00,  2.20s/it]\n"
     ]
    }
   ],
   "source": [
    "ipc_alerts_hyperlink = sources.ipc_alerts_url\n",
    "output_folder_path = sources.ipc_alerts_folder_path\n",
    "output_metadata_path = sources.ipc_alerts_metadata_path\n",
    "\n",
    "# Find all hyperlinks for alerts on the page,\n",
    "links = get_all_alerts_hyperlinks(ipc_alerts_hyperlink)\n",
    "df = get_all_documents_from_alerts_references(links)"
   ]
  },
  {
   "cell_type": "code",
   "execution_count": 8,
   "metadata": {
    "tags": [
     "dev"
    ]
   },
   "outputs": [
    {
     "data": {
      "text/html": [
       "<div>\n",
       "<style scoped>\n",
       "    .dataframe tbody tr th:only-of-type {\n",
       "        vertical-align: middle;\n",
       "    }\n",
       "\n",
       "    .dataframe tbody tr th {\n",
       "        vertical-align: top;\n",
       "    }\n",
       "\n",
       "    .dataframe thead th {\n",
       "        text-align: right;\n",
       "    }\n",
       "</style>\n",
       "<table border=\"1\" class=\"dataframe\">\n",
       "  <thead>\n",
       "    <tr style=\"text-align: right;\">\n",
       "      <th></th>\n",
       "      <th>title</th>\n",
       "      <th>url</th>\n",
       "      <th>alert_page_title</th>\n",
       "      <th>pdf_url</th>\n",
       "      <th>document_type</th>\n",
       "      <th>pdf_local_path</th>\n",
       "    </tr>\n",
       "  </thead>\n",
       "  <tbody>\n",
       "    <tr>\n",
       "      <th>0</th>\n",
       "      <td>Over 13 million people in Afghanistan likely t...</td>\n",
       "      <td>http://www.ipcinfo.org/ipcinfo-website/alerts-...</td>\n",
       "      <td>Afghanistan: Over 11 million people acutely fo...</td>\n",
       "      <td>http://www.ipcinfo.org/fileadmin/user_upload/i...</td>\n",
       "      <td>snapshot</td>\n",
       "      <td>C:\\Users\\charl\\Repositories\\batch8_actioncontr...</td>\n",
       "    </tr>\n",
       "    <tr>\n",
       "      <th>1</th>\n",
       "      <td>Over 13 million people in Afghanistan likely t...</td>\n",
       "      <td>http://www.ipcinfo.org/ipcinfo-website/alerts-...</td>\n",
       "      <td>Afghanistan: Over 11 million people acutely fo...</td>\n",
       "      <td>http://www.ipcinfo.org/fileadmin/user_upload/i...</td>\n",
       "      <td>report</td>\n",
       "      <td>C:\\Users\\charl\\Repositories\\batch8_actioncontr...</td>\n",
       "    </tr>\n",
       "    <tr>\n",
       "      <th>2</th>\n",
       "      <td>Over 13 million people in Afghanistan likely t...</td>\n",
       "      <td>http://www.ipcinfo.org/ipcinfo-website/alerts-...</td>\n",
       "      <td>Afghanistan: Over 11 million people acutely fo...</td>\n",
       "      <td>http://www.ipcinfo.org/fileadmin/user_upload/i...</td>\n",
       "      <td>report</td>\n",
       "      <td>C:\\Users\\charl\\Repositories\\batch8_actioncontr...</td>\n",
       "    </tr>\n",
       "    <tr>\n",
       "      <th>3</th>\n",
       "      <td>Over 13 million people in Afghanistan likely t...</td>\n",
       "      <td>http://www.ipcinfo.org/ipcinfo-website/alerts-...</td>\n",
       "      <td>Afghanistan: Over 11 million people acutely fo...</td>\n",
       "      <td>http://www.ipcinfo.org/fileadmin/user_upload/i...</td>\n",
       "      <td>snapshot</td>\n",
       "      <td>C:\\Users\\charl\\Repositories\\batch8_actioncontr...</td>\n",
       "    </tr>\n",
       "    <tr>\n",
       "      <th>4</th>\n",
       "      <td>Over 13 million people in Afghanistan likely t...</td>\n",
       "      <td>http://www.ipcinfo.org/ipcinfo-website/alerts-...</td>\n",
       "      <td>Afghanistan: Over 11 million people acutely fo...</td>\n",
       "      <td>http://www.ipcinfo.org/fileadmin/user_upload/i...</td>\n",
       "      <td>unknown_type</td>\n",
       "      <td>C:\\Users\\charl\\Repositories\\batch8_actioncontr...</td>\n",
       "    </tr>\n",
       "  </tbody>\n",
       "</table>\n",
       "</div>"
      ],
      "text/plain": [
       "                                               title  \\\n",
       "0  Over 13 million people in Afghanistan likely t...   \n",
       "1  Over 13 million people in Afghanistan likely t...   \n",
       "2  Over 13 million people in Afghanistan likely t...   \n",
       "3  Over 13 million people in Afghanistan likely t...   \n",
       "4  Over 13 million people in Afghanistan likely t...   \n",
       "\n",
       "                                                 url  \\\n",
       "0  http://www.ipcinfo.org/ipcinfo-website/alerts-...   \n",
       "1  http://www.ipcinfo.org/ipcinfo-website/alerts-...   \n",
       "2  http://www.ipcinfo.org/ipcinfo-website/alerts-...   \n",
       "3  http://www.ipcinfo.org/ipcinfo-website/alerts-...   \n",
       "4  http://www.ipcinfo.org/ipcinfo-website/alerts-...   \n",
       "\n",
       "                                    alert_page_title  \\\n",
       "0  Afghanistan: Over 11 million people acutely fo...   \n",
       "1  Afghanistan: Over 11 million people acutely fo...   \n",
       "2  Afghanistan: Over 11 million people acutely fo...   \n",
       "3  Afghanistan: Over 11 million people acutely fo...   \n",
       "4  Afghanistan: Over 11 million people acutely fo...   \n",
       "\n",
       "                                             pdf_url document_type  \\\n",
       "0  http://www.ipcinfo.org/fileadmin/user_upload/i...      snapshot   \n",
       "1  http://www.ipcinfo.org/fileadmin/user_upload/i...        report   \n",
       "2  http://www.ipcinfo.org/fileadmin/user_upload/i...        report   \n",
       "3  http://www.ipcinfo.org/fileadmin/user_upload/i...      snapshot   \n",
       "4  http://www.ipcinfo.org/fileadmin/user_upload/i...  unknown_type   \n",
       "\n",
       "                                      pdf_local_path  \n",
       "0  C:\\Users\\charl\\Repositories\\batch8_actioncontr...  \n",
       "1  C:\\Users\\charl\\Repositories\\batch8_actioncontr...  \n",
       "2  C:\\Users\\charl\\Repositories\\batch8_actioncontr...  \n",
       "3  C:\\Users\\charl\\Repositories\\batch8_actioncontr...  \n",
       "4  C:\\Users\\charl\\Repositories\\batch8_actioncontr...  "
      ]
     },
     "execution_count": 8,
     "metadata": {},
     "output_type": "execute_result"
    }
   ],
   "source": [
    "df.head()"
   ]
  },
  {
   "cell_type": "code",
   "execution_count": null,
   "metadata": {},
   "outputs": [],
   "source": []
  }
 ],
 "metadata": {
  "celltoolbar": "Tags",
  "kernelspec": {
   "display_name": "Python 3",
   "language": "python",
   "name": "python3"
  },
  "language_info": {
   "codemirror_mode": {
    "name": "ipython",
    "version": 3
   },
   "file_extension": ".py",
   "mimetype": "text/x-python",
   "name": "python",
   "nbconvert_exporter": "python",
   "pygments_lexer": "ipython3",
   "version": "3.8.3"
  }
 },
 "nbformat": 4,
 "nbformat_minor": 4
}
