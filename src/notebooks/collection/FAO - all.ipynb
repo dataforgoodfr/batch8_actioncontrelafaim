{
 "cells": [
  {
   "cell_type": "markdown",
   "metadata": {},
   "source": [
    "# FAO datasets\n",
    "\n",
    "Running this notebooks collects all data price sources from http://www.fao.org/faostat/en/#home which is an UN organization. Available datasets are automatically scrapped from homepage."
   ]
  },
  {
   "cell_type": "markdown",
   "metadata": {},
   "source": [
    "## Settings"
   ]
  },
  {
   "cell_type": "code",
   "execution_count": 14,
   "metadata": {},
   "outputs": [],
   "source": [
    "# helpers\n",
    "from pathlib import Path\n",
    "import urllib.request\n",
    "from datetime import datetime\n",
    "import shutil\n",
    "import tqdm\n",
    "\n",
    "# data processing\n",
    "import pandas as pd\n",
    "import os\n",
    "from zipfile import ZipFile\n",
    "from bs4 import BeautifulSoup\n",
    "\n",
    "# conf\n",
    "import sys\n",
    "\n",
    "def get_to_root(level_of_file, path):\n",
    "    rootpath_list = sys.path[0].split('\\\\')[:-level_of_file]\n",
    "    return \"\\\\\".join(rootpath_list)\n",
    "\n",
    "sys.path[0] = get_to_root(3,sys.path[0])\n",
    "from config.config import config\n",
    "sources = config.sources"
   ]
  },
  {
   "cell_type": "code",
   "execution_count": 18,
   "metadata": {},
   "outputs": [],
   "source": [
    "def scarp_all_datasets_from_the_FAO(url = sources.fao_api_bulk_url):\n",
    "    # Return a Python dictionnary from XML file on the FAO website dataset name -> (link, update date)\n",
    "    \n",
    "    with urllib.request.urlopen(url) as page:\n",
    "        \n",
    "        # Parse .xml file\n",
    "        xml = BeautifulSoup(page.read(), \"lxml\")\n",
    "        \n",
    "        # Get all dataset info\n",
    "        datasets_info = {}\n",
    "        for dataset in xml.find_all('dataset'):\n",
    "                datasets_info[dataset.datasetname.text] = (dataset.filelocation.text, dataset.dateupdate.text) \n",
    "        \n",
    "        return datasets_info\n",
    "\n",
    "def first_time_download(datasets_info,  output_path = sources.fao_output_folder):\n",
    "    # Download corresponding all .csv files while removing existing ones\n",
    "    \n",
    "    for dataset_name in datasets_info.keys():\n",
    "        \n",
    "        filename = datasets_info[dataset_name][0].split(\"/\")[-1]\n",
    "        path = datasets_info[dataset_name][0]\n",
    "        \n",
    "        # Get file\n",
    "        urllib.request.urlretrieve(path, output_path / filename)\n",
    "        \n",
    "        # Extract all the contents of zip file in current directory\n",
    "        with ZipFile(output_path / filename, 'r') as zipObj:\n",
    "           zipObj.extractall(path=output_path)\n",
    "        \n",
    "        # Delete zip file\n",
    "        try:\n",
    "            os.remove(output_path / filename)\n",
    "        except OSError:\n",
    "            print(\"Zip file already deleted.\")\n",
    "            pass\n",
    "\n",
    "def write_dataset_info(datasets_info, output_path = sources.fao_metadata_csv_path):\n",
    "    dataframe = pd.DataFrame.from_dict(datasets_info)\n",
    "    dataframe.to_csv(output_path)\n",
    "\n",
    "def update(datasets_info, input_path, output_path = sources.fao_output_folder):\n",
    "    # Download if dataset needs an update\n",
    "    \n",
    "    # Get old version\n",
    "    already_installed = pd.read_csv(input_path)\n",
    "\n",
    "    for dataset_name in datasets_info.keys():\n",
    "        # New version update\n",
    "        filename = datasets_info[dataset_name][0].split(\"/\")[-1]\n",
    "        new_date = datasets_info[dataset_name][1]\n",
    "        \n",
    "        # Old version udpate\n",
    "        old_date = already_installed[dataset_name][1]\n",
    "\n",
    "        if old_date < new_date:\n",
    "\n",
    "            #download version\n",
    "            path = datasets_info[dataset_name][0]\n",
    "            urllib.request.urlretrieve(path, output_path / filename)\n",
    "            \n",
    "            with ZipFile(output_path / filename, 'r') as zipObj:\n",
    "                # Extract all the contents of zip file in current directory\n",
    "              zipObj.extractall(path=output_path)\n",
    "\n",
    "            os.remove(output_path / filename)"
   ]
  },
  {
   "cell_type": "markdown",
   "metadata": {},
   "source": [
    "## Get all datasets from FAO"
   ]
  },
  {
   "cell_type": "code",
   "execution_count": null,
   "metadata": {},
   "outputs": [],
   "source": [
    "# Get the datasets urls\n",
    "datasets_info = scarp_all_datasets_from_the_FAO()\n",
    "# Save update table\n",
    "write_dataset_info(datasets_info)\n",
    "# Download all the .csv, save them\n",
    "first_time_download(datasets_info)"
   ]
  }
 ],
 "metadata": {
  "kernelspec": {
   "display_name": "Python 3",
   "language": "python",
   "name": "python3"
  },
  "language_info": {
   "codemirror_mode": {
    "name": "ipython",
    "version": 3
   },
   "file_extension": ".py",
   "mimetype": "text/x-python",
   "name": "python",
   "nbconvert_exporter": "python",
   "pygments_lexer": "ipython3",
   "version": "3.8.3"
  }
 },
 "nbformat": 4,
 "nbformat_minor": 4
}
